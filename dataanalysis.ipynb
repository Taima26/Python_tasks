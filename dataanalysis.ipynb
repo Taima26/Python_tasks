{
 "cells": [
  {
   "cell_type": "code",
   "execution_count": 24,
   "metadata": {},
   "outputs": [
    {
     "name": "stdout",
     "output_type": "stream",
     "text": [
      "           order_id                              items  calories  price\n",
      "0      order-849137           [meal-2, meal-6, meal-5]     995.0   14.0\n",
      "1      order-849138         [meal-5, combo-3, combo-3]    1140.0   23.0\n",
      "2      order-849139         [meal-3, combo-2, combo-1]       NaN    NaN\n",
      "3      order-849140                 [combo-1, combo-3]    1525.0   21.0\n",
      "4      order-849141                  [meal-2, combo-2]    1450.0   17.0\n",
      "...             ...                                ...       ...    ...\n",
      "36914  order-886051  [meal-8, meal-1, meal-8, combo-2]    1480.0   19.0\n",
      "36915  order-886052           [meal-5, meal-6, meal-5]     475.0   10.0\n",
      "36916  order-886053  [meal-6, meal-4, meal-3, combo-1]    1835.0   27.0\n",
      "36917  order-886054                  [meal-1, combo-3]    1055.0   15.0\n",
      "36918  order-886055         [meal-4, combo-1, combo-2]       NaN    NaN\n",
      "\n",
      "[36919 rows x 4 columns]\n"
     ]
    }
   ],
   "source": [
    "from ToImport.orders import Order\n",
    "import pandas as pd\n",
    "import matplotlib.pyplot as plt\n",
    "import json\n",
    "data = json.load(open(\"orders_history.json\"))\n",
    "orders = data[\"orders\"]\n",
    "\n",
    "#the lists to fill the dataframe\n",
    "order_id = []\n",
    "order_accepted = []\n",
    "order_refused_reason = []\n",
    "dateoforder = []\n",
    "items = []\n",
    "calories = []\n",
    "price = []\n",
    "\n",
    "#filling the lists\n",
    "for i in orders:\n",
    "    x = Order(i[\"items\"], i[\"date\"])\n",
    "    order_id += [x.order_id]\n",
    "    x.is_order_accepted()\n",
    "    if x.order_accepted:\n",
    "        order_accepted += [\"Accepted\"]\n",
    "        order_refused_reason += [\"None\"]\n",
    "    else:\n",
    "        order_accepted += [\"Refused\"]\n",
    "        order_refused_reason += [x.order_refuse_reason]\n",
    "    dateoforder += [x.date]\n",
    "    items += [x.items]\n",
    "    calories += [x.calories]\n",
    "    price += [x.price]\n",
    "\n",
    "#filing dataframe\n",
    "df = pd.DataFrame()\n",
    "df[\"order_id\"] = order_id\n",
    "df[\"order_accepted\"] = order_accepted\n",
    "df[\"order_refused_reason\"] = order_refused_reason\n",
    "df[\"date\" ]= dateoforder\n",
    "df[\"items\"] = items\n",
    "df[\"calories\"] = calories\n",
    "df[\"price\"] = price\n",
    "\n",
    "\n"
   ]
  }
 ],
 "metadata": {
  "kernelspec": {
   "display_name": "Python 3.8.10 ('.venv': venv)",
   "language": "python",
   "name": "python3"
  },
  "language_info": {
   "codemirror_mode": {
    "name": "ipython",
    "version": 3
   },
   "file_extension": ".py",
   "mimetype": "text/x-python",
   "name": "python",
   "nbconvert_exporter": "python",
   "pygments_lexer": "ipython3",
   "version": "3.8.10"
  },
  "orig_nbformat": 4,
  "vscode": {
   "interpreter": {
    "hash": "7cb55238c90ede141d7442d682ce88528c142af9922e57b95769c4bc18468161"
   }
  }
 },
 "nbformat": 4,
 "nbformat_minor": 2
}
