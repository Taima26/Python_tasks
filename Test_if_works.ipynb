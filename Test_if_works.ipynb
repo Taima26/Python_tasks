{
 "cells": [
  {
   "cell_type": "code",
   "execution_count": 2,
   "metadata": {},
   "outputs": [
    {
     "name": "stdout",
     "output_type": "stream",
     "text": [
      "690\n"
     ]
    }
   ],
   "source": [
    "#task 1 : Create a calorie counter function.\n",
    "# fill the test_it list by meals using their NAMES :\n",
    "# menue of meals:  Hamburger  , Cheese Burger , Veggie Burger , Vegan Burger ,\n",
    "#            Sweet Potatoes , Salad , Iced Tea, Lemonade\n",
    "\n",
    "from ToImport.calories_counter_simple_data import cal_cntr\n",
    "test_it = [\"Hamburger\", \"Lemonade\"]\n",
    "print(cal_cntr(test_it))"
   ]
  },
  {
   "cell_type": "code",
   "execution_count": 3,
   "metadata": {},
   "outputs": [
    {
     "name": "stdout",
     "output_type": "stream",
     "text": [
      "1085\n"
     ]
    }
   ],
   "source": [
    "#task 2 : handling combos. \n",
    "# enter meals or combos by their NAMES.\n",
    "#menue of combos:  Cheesy Combo, Veggie Combo, Vegan Combo\n",
    "test_it = [\"Cheesy Combo\", \"Salad\"]\n",
    "print(cal_cntr(test_it))\n"
   ]
  },
  {
   "cell_type": "code",
   "execution_count": 4,
   "metadata": {},
   "outputs": [
    {
     "name": "stdout",
     "output_type": "stream",
     "text": [
      "sorry we don't have tacos on the menue\n"
     ]
    }
   ],
   "source": [
    "#task 3: handling errors. catch error if item not on the menue\n",
    "test_it = [\"Cheesy Combo\", \"tacos\"]\n",
    "print(cal_cntr(test_it))\n"
   ]
  },
  {
   "cell_type": "code",
   "execution_count": 5,
   "metadata": {},
   "outputs": [
    {
     "name": "stdout",
     "output_type": "stream",
     "text": [
      "your meal is too big, 3210 is bigger than 2000!\n"
     ]
    }
   ],
   "source": [
    "#task 3: handling errors. catch error if calories more than 2000.\n",
    "test_it = [\"Cheesy Combo\", \"Cheesy Combo\", \"Cheesy Combo\"]\n",
    "print(cal_cntr(test_it))"
   ]
  },
  {
   "cell_type": "code",
   "execution_count": 6,
   "metadata": {},
   "outputs": [
    {
     "name": "stdout",
     "output_type": "stream",
     "text": [
      "1820\n"
     ]
    }
   ],
   "source": [
    "#task 4: Use more complex data.\n",
    "#entering meals and combos by id. meal-1 >>> meal-8. combo-1 >> combo-3\n",
    "from ToImport.functions import cal_counter\n",
    "test_it = [\"meal-2\", \"combo-1\"]\n",
    "print(cal_counter(test_it))"
   ]
  },
  {
   "cell_type": "code",
   "execution_count": 7,
   "metadata": {},
   "outputs": [
    {
     "ename": "MealTooBig",
     "evalue": "Meal is too big! 5030 exceed 2000!",
     "output_type": "error",
     "traceback": [
      "\u001b[1;31m---------------------------------------------------------------------------\u001b[0m",
      "\u001b[1;31mMealTooBig\u001b[0m                                Traceback (most recent call last)",
      "Cell \u001b[1;32mIn[7], line 3\u001b[0m\n\u001b[0;32m      1\u001b[0m \u001b[38;5;66;03m#task 4: raising errors instead of catching them. meal too big:\u001b[39;00m\n\u001b[0;32m      2\u001b[0m test_it \u001b[38;5;241m=\u001b[39m [\u001b[38;5;124m\"\u001b[39m\u001b[38;5;124mmeal-2\u001b[39m\u001b[38;5;124m\"\u001b[39m, \u001b[38;5;124m\"\u001b[39m\u001b[38;5;124mcombo-1\u001b[39m\u001b[38;5;124m\"\u001b[39m, \u001b[38;5;124m\"\u001b[39m\u001b[38;5;124mcombo-1\u001b[39m\u001b[38;5;124m\"\u001b[39m,\u001b[38;5;124m\"\u001b[39m\u001b[38;5;124mcombo-1\u001b[39m\u001b[38;5;124m\"\u001b[39m,\u001b[38;5;124m\"\u001b[39m\u001b[38;5;124mcombo-1\u001b[39m\u001b[38;5;124m\"\u001b[39m]\n\u001b[1;32m----> 3\u001b[0m \u001b[38;5;28mprint\u001b[39m(\u001b[43mcal_counter\u001b[49m\u001b[43m(\u001b[49m\u001b[43mtest_it\u001b[49m\u001b[43m)\u001b[49m)\n",
      "File \u001b[1;32mc:\\Users\\Waseem\\python_course\\Python_tasks\\ToImport\\functions.py:34\u001b[0m, in \u001b[0;36mcal_counter\u001b[1;34m(order)\u001b[0m\n\u001b[0;32m     32\u001b[0m         \u001b[39mraise\u001b[39;00m WrongInput(choice)\n\u001b[0;32m     33\u001b[0m \u001b[39mif\u001b[39;00m result \u001b[39m>\u001b[39m \u001b[39m2000\u001b[39m:\n\u001b[1;32m---> 34\u001b[0m     \u001b[39mraise\u001b[39;00m MealTooBig(result)\n\u001b[0;32m     35\u001b[0m \u001b[39mreturn\u001b[39;00m result\n",
      "\u001b[1;31mMealTooBig\u001b[0m: Meal is too big! 5030 exceed 2000!"
     ]
    }
   ],
   "source": [
    "#task 5: raising errors instead of catching them. meal too big:\n",
    "test_it = [\"meal-2\", \"combo-1\", \"combo-1\",\"combo-1\",\"combo-1\"]\n",
    "print(cal_counter(test_it))"
   ]
  },
  {
   "cell_type": "code",
   "execution_count": 8,
   "metadata": {},
   "outputs": [
    {
     "ename": "WrongInput",
     "evalue": "Sorry,\"combo-11\" isn't on the menue",
     "output_type": "error",
     "traceback": [
      "\u001b[1;31m---------------------------------------------------------------------------\u001b[0m",
      "\u001b[1;31mWrongInput\u001b[0m                                Traceback (most recent call last)",
      "Cell \u001b[1;32mIn[8], line 3\u001b[0m\n\u001b[0;32m      1\u001b[0m \u001b[38;5;66;03m#task 5: raising errors instead of catching them. wrong input\u001b[39;00m\n\u001b[0;32m      2\u001b[0m test_it \u001b[38;5;241m=\u001b[39m [\u001b[38;5;124m\"\u001b[39m\u001b[38;5;124mmeal-2\u001b[39m\u001b[38;5;124m\"\u001b[39m, \u001b[38;5;124m\"\u001b[39m\u001b[38;5;124mcombo-1\u001b[39m\u001b[38;5;124m\"\u001b[39m, \u001b[38;5;124m\"\u001b[39m\u001b[38;5;124mcombo-11\u001b[39m\u001b[38;5;124m\"\u001b[39m]\n\u001b[1;32m----> 3\u001b[0m \u001b[38;5;28mprint\u001b[39m(\u001b[43mcal_counter\u001b[49m\u001b[43m(\u001b[49m\u001b[43mtest_it\u001b[49m\u001b[43m)\u001b[49m)\n",
      "File \u001b[1;32mc:\\Users\\Waseem\\python_course\\Python_tasks\\ToImport\\functions.py:32\u001b[0m, in \u001b[0;36mcal_counter\u001b[1;34m(order)\u001b[0m\n\u001b[0;32m     30\u001b[0m         result \u001b[39m+\u001b[39m\u001b[39m=\u001b[39m cal_counter(combos[\u001b[39mid\u001b[39m]\u001b[39m.\u001b[39mget(\u001b[39m\"\u001b[39m\u001b[39mmeals\u001b[39m\u001b[39m\"\u001b[39m))\n\u001b[0;32m     31\u001b[0m     \u001b[39melif\u001b[39;00m choice \u001b[39mnot\u001b[39;00m \u001b[39min\u001b[39;00m meals_dic \u001b[39mand\u001b[39;00m choice \u001b[39mnot\u001b[39;00m \u001b[39min\u001b[39;00m combo_dic:\n\u001b[1;32m---> 32\u001b[0m         \u001b[39mraise\u001b[39;00m WrongInput(choice)\n\u001b[0;32m     33\u001b[0m \u001b[39mif\u001b[39;00m result \u001b[39m>\u001b[39m \u001b[39m2000\u001b[39m:\n\u001b[0;32m     34\u001b[0m     \u001b[39mraise\u001b[39;00m MealTooBig(result)\n",
      "\u001b[1;31mWrongInput\u001b[0m: Sorry,\"combo-11\" isn't on the menue"
     ]
    }
   ],
   "source": [
    "#task 5: raising errors instead of catching them. wrong input\n",
    "test_it = [\"meal-2\", \"combo-1\", \"combo-11\"]\n",
    "print(cal_counter(test_it))"
   ]
  },
  {
   "cell_type": "code",
   "execution_count": 9,
   "metadata": {},
   "outputs": [
    {
     "name": "stdout",
     "output_type": "stream",
     "text": [
      "18\n"
     ]
    }
   ],
   "source": [
    "#task 6: Create a price counter function.\n",
    "from ToImport.functions import price_counter\n",
    "test_it = [\"meal-2\", \"combo-1\"]\n",
    "print(price_counter(test_it))"
   ]
  },
  {
   "cell_type": "code",
   "execution_count": 10,
   "metadata": {},
   "outputs": [
    {
     "name": "stdout",
     "output_type": "stream",
     "text": [
      "1820\n",
      "18\n",
      "2023-10-28 21:28:28.388214\n",
      "True\n",
      "<class 'str'>\n"
     ]
    }
   ],
   "source": [
    "#task 7: Use OOP logic to handle orders.\n",
    "from ToImport.orders import Order\n",
    "test_it = Order([\"meal-2\", \"combo-1\"])\n",
    "test_it.is_order_accepted()\n",
    "print(test_it.calories)\n",
    "print(test_it.price)\n",
    "print(test_it.date)\n",
    "print(test_it.order_accepted)\n",
    "print(test_it.order_refuse_reason)\n"
   ]
  },
  {
   "cell_type": "code",
   "execution_count": 11,
   "metadata": {},
   "outputs": [
    {
     "name": "stdout",
     "output_type": "stream",
     "text": [
      "None\n",
      "None\n",
      "2023-10-28 21:28:37.800753\n",
      "False\n",
      "Meal is too big! 3960 exceed 2000!\n"
     ]
    }
   ],
   "source": [
    "#task 7: Use OOP logic to handle orders.\n",
    "from ToImport.orders import Order\n",
    "test_it = Order([\"meal-2\", \"combo-1\", \"combo-1\",\"combo-1\"])\n",
    "test_it.is_order_accepted()\n",
    "print(test_it.calories)\n",
    "print(test_it.price)\n",
    "print(test_it.date)\n",
    "print(test_it.order_accepted)\n",
    "print(test_it.order_refuse_reason)"
   ]
  },
  {
   "cell_type": "code",
   "execution_count": 14,
   "metadata": {},
   "outputs": [
    {
     "name": "stdout",
     "output_type": "stream",
     "text": [
      "None\n",
      "None\n",
      "2023-10-28 22:04:27.705720\n",
      "False\n",
      "Sorry,\"combo-5\" isn't on the menue\n"
     ]
    }
   ],
   "source": [
    "#task 7: Use OOP logic to handle orders.\n",
    "from ToImport.orders import Order\n",
    "test_it = Order([\"meal-2\", \"combo-5\"])\n",
    "test_it.is_order_accepted()\n",
    "print(test_it.calories)\n",
    "print(test_it.price)\n",
    "print(test_it.date)\n",
    "print(test_it.order_accepted)\n",
    "print(test_it.order_refuse_reason)"
   ]
  }
 ],
 "metadata": {
  "kernelspec": {
   "display_name": "Python 3.8.10 ('.venv': venv)",
   "language": "python",
   "name": "python3"
  },
  "language_info": {
   "codemirror_mode": {
    "name": "ipython",
    "version": 3
   },
   "file_extension": ".py",
   "mimetype": "text/x-python",
   "name": "python",
   "nbconvert_exporter": "python",
   "pygments_lexer": "ipython3",
   "version": "3.8.10"
  },
  "orig_nbformat": 4,
  "vscode": {
   "interpreter": {
    "hash": "7cb55238c90ede141d7442d682ce88528c142af9922e57b95769c4bc18468161"
   }
  }
 },
 "nbformat": 4,
 "nbformat_minor": 2
}
