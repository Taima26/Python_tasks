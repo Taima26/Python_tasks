{
 "cells": [
  {
   "cell_type": "code",
   "execution_count": 7,
   "metadata": {},
   "outputs": [
    {
     "name": "stdout",
     "output_type": "stream",
     "text": [
      "690\n"
     ]
    }
   ],
   "source": [
    "#task 1 : Create a calorie counter function.\n",
    "# fill the test_it list by meals using their NAMES :\n",
    "# menue of meals:  Hamburger  , Cheese Burger , Veggie Burger , Vegan Burger ,\n",
    "#            Sweet Potatoes , Salad , Iced Tea, Lemonade\n",
    "\n",
    "from ToImport.calories_counter_simple_data import cal_cntr\n",
    "test_it = [\"Hamburger\", \"Lemonade\"]\n",
    "print(cal_cntr(test_it))"
   ]
  },
  {
   "cell_type": "code",
   "execution_count": 8,
   "metadata": {},
   "outputs": [
    {
     "name": "stdout",
     "output_type": "stream",
     "text": [
      "1085\n"
     ]
    }
   ],
   "source": [
    "#task 2 : handling combos. \n",
    "# enter meals or combos by their NAMES.\n",
    "#menue of combos:  Cheesy Combo, Veggie Combo, Vegan Combo\n",
    "test_it = [\"Cheesy Combo\", \"Salad\"]\n",
    "print(cal_cntr(test_it))\n"
   ]
  },
  {
   "cell_type": "code",
   "execution_count": 13,
   "metadata": {},
   "outputs": [
    {
     "ename": "WrongInput",
     "evalue": "Sorry,\"tacos\" isn't on the menue",
     "output_type": "error",
     "traceback": [
      "\u001b[1;31m---------------------------------------------------------------------------\u001b[0m",
      "\u001b[1;31mWrongInput\u001b[0m                                Traceback (most recent call last)",
      "Cell \u001b[1;32mIn[13], line 3\u001b[0m\n\u001b[0;32m      1\u001b[0m \u001b[38;5;66;03m#task 3: handling errors. rais error if item not on the menue\u001b[39;00m\n\u001b[0;32m      2\u001b[0m test_it \u001b[38;5;241m=\u001b[39m [\u001b[38;5;124m\"\u001b[39m\u001b[38;5;124mCheesy Combo\u001b[39m\u001b[38;5;124m\"\u001b[39m, \u001b[38;5;124m\"\u001b[39m\u001b[38;5;124mtacos\u001b[39m\u001b[38;5;124m\"\u001b[39m]\n\u001b[1;32m----> 3\u001b[0m \u001b[38;5;28mprint\u001b[39m(\u001b[43mcal_cntr\u001b[49m\u001b[43m(\u001b[49m\u001b[43mtest_it\u001b[49m\u001b[43m)\u001b[49m)\n",
      "File \u001b[1;32mc:\\Users\\Waseem\\python_course\\Python_tasks\\ToImport\\calories_counter_simple_data.py:27\u001b[0m, in \u001b[0;36mcal_cntr\u001b[1;34m(choices)\u001b[0m\n\u001b[0;32m     25\u001b[0m         result \u001b[39m+\u001b[39m\u001b[39m=\u001b[39m cal_cntr(combos[choice])\n\u001b[0;32m     26\u001b[0m     \u001b[39melse\u001b[39;00m:\n\u001b[1;32m---> 27\u001b[0m         \u001b[39mraise\u001b[39;00m WrongInput(choice)\n\u001b[0;32m     28\u001b[0m \u001b[39mif\u001b[39;00m result \u001b[39m>\u001b[39m \u001b[39m2000\u001b[39m:\n\u001b[0;32m     29\u001b[0m     \u001b[39mraise\u001b[39;00m MealTooBig(result)\n",
      "\u001b[1;31mWrongInput\u001b[0m: Sorry,\"tacos\" isn't on the menue"
     ]
    }
   ],
   "source": [
    "#task 3: handling errors. rais error if item not on the menue\n",
    "test_it = [\"Cheesy Combo\", \"tacos\"]\n",
    "print(cal_cntr(test_it))\n"
   ]
  },
  {
   "cell_type": "code",
   "execution_count": 14,
   "metadata": {},
   "outputs": [
    {
     "ename": "MealTooBig",
     "evalue": "Meal is too big! 3210 exceed 2000!",
     "output_type": "error",
     "traceback": [
      "\u001b[1;31m---------------------------------------------------------------------------\u001b[0m",
      "\u001b[1;31mMealTooBig\u001b[0m                                Traceback (most recent call last)",
      "Cell \u001b[1;32mIn[14], line 3\u001b[0m\n\u001b[0;32m      1\u001b[0m \u001b[38;5;66;03m#task 3: handling errors. rais error if calories more than 2000.\u001b[39;00m\n\u001b[0;32m      2\u001b[0m test_it \u001b[38;5;241m=\u001b[39m [\u001b[38;5;124m\"\u001b[39m\u001b[38;5;124mCheesy Combo\u001b[39m\u001b[38;5;124m\"\u001b[39m, \u001b[38;5;124m\"\u001b[39m\u001b[38;5;124mCheesy Combo\u001b[39m\u001b[38;5;124m\"\u001b[39m, \u001b[38;5;124m\"\u001b[39m\u001b[38;5;124mCheesy Combo\u001b[39m\u001b[38;5;124m\"\u001b[39m]\n\u001b[1;32m----> 3\u001b[0m \u001b[38;5;28mprint\u001b[39m(\u001b[43mcal_cntr\u001b[49m\u001b[43m(\u001b[49m\u001b[43mtest_it\u001b[49m\u001b[43m)\u001b[49m)\n",
      "File \u001b[1;32mc:\\Users\\Waseem\\python_course\\Python_tasks\\ToImport\\calories_counter_simple_data.py:29\u001b[0m, in \u001b[0;36mcal_cntr\u001b[1;34m(choices)\u001b[0m\n\u001b[0;32m     27\u001b[0m         \u001b[39mraise\u001b[39;00m WrongInput(choice)\n\u001b[0;32m     28\u001b[0m \u001b[39mif\u001b[39;00m result \u001b[39m>\u001b[39m \u001b[39m2000\u001b[39m:\n\u001b[1;32m---> 29\u001b[0m     \u001b[39mraise\u001b[39;00m MealTooBig(result)\n\u001b[0;32m     30\u001b[0m \u001b[39mreturn\u001b[39;00m result\n",
      "\u001b[1;31mMealTooBig\u001b[0m: Meal is too big! 3210 exceed 2000!"
     ]
    }
   ],
   "source": [
    "#task 3: handling errors. rais error if calories more than 2000.\n",
    "test_it = [\"Cheesy Combo\", \"Cheesy Combo\", \"Cheesy Combo\"]\n",
    "print(cal_cntr(test_it))"
   ]
  },
  {
   "cell_type": "code",
   "execution_count": 16,
   "metadata": {},
   "outputs": [
    {
     "name": "stdout",
     "output_type": "stream",
     "text": [
      "1820\n"
     ]
    }
   ],
   "source": [
    "#task 4: Use more complex data.\n",
    "#entering meals and combos by id.\n",
    "from ToImport.functions import cal_counter\n",
    "test_it = [\"meal-2\", \"combo-1\"]\n",
    "print(cal_counter(test_it))"
   ]
  },
  {
   "cell_type": "code",
   "execution_count": 21,
   "metadata": {},
   "outputs": [
    {
     "name": "stdout",
     "output_type": "stream",
     "text": [
      "18\n"
     ]
    }
   ],
   "source": [
    "#task 4: Create a price counter function.\n",
    "from ToImport.functions import price_counter\n",
    "test_it = [\"meal-2\", \"combo-1\"]\n",
    "print(price_counter(test_it))"
   ]
  },
  {
   "cell_type": "code",
   "execution_count": null,
   "metadata": {},
   "outputs": [],
   "source": []
  }
 ],
 "metadata": {
  "kernelspec": {
   "display_name": "Python 3.8.10 ('.venv': venv)",
   "language": "python",
   "name": "python3"
  },
  "language_info": {
   "codemirror_mode": {
    "name": "ipython",
    "version": 3
   },
   "file_extension": ".py",
   "mimetype": "text/x-python",
   "name": "python",
   "nbconvert_exporter": "python",
   "pygments_lexer": "ipython3",
   "version": "3.8.10"
  },
  "orig_nbformat": 4,
  "vscode": {
   "interpreter": {
    "hash": "7cb55238c90ede141d7442d682ce88528c142af9922e57b95769c4bc18468161"
   }
  }
 },
 "nbformat": 4,
 "nbformat_minor": 2
}
