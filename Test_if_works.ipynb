{
 "cells": [
  {
   "cell_type": "code",
   "execution_count": 2,
   "metadata": {},
   "outputs": [
    {
     "ename": "ModuleNotFoundError",
     "evalue": "No module named 'ToImport'",
     "output_type": "error",
     "traceback": [
      "\u001b[1;31m---------------------------------------------------------------------------\u001b[0m",
      "\u001b[1;31mModuleNotFoundError\u001b[0m                       Traceback (most recent call last)",
      "Cell \u001b[1;32mIn[2], line 1\u001b[0m\n\u001b[1;32m----> 1\u001b[0m \u001b[38;5;28;01mfrom\u001b[39;00m \u001b[38;5;21;01mToImport\u001b[39;00m\u001b[38;5;21;01m.\u001b[39;00m\u001b[38;5;21;01mcalories_counter_simple_data\u001b[39;00m \u001b[38;5;28;01mimport\u001b[39;00m cal_cntr\n\u001b[0;32m      2\u001b[0m \u001b[38;5;66;03m#task 1 : Create a calorie counter function.\u001b[39;00m\n\u001b[0;32m      3\u001b[0m \u001b[38;5;66;03m# fill the test_it list by meals using their NAMES :\u001b[39;00m\n\u001b[0;32m      4\u001b[0m \u001b[38;5;66;03m# menue of meals:  Hamburger  , Cheese Burger , Veggie Burger , Vegan Burger ,\u001b[39;00m\n\u001b[0;32m      5\u001b[0m \u001b[38;5;66;03m#            Sweet Potatoes , Salad , Iced Tea, Lemonade\u001b[39;00m\n\u001b[0;32m      7\u001b[0m test_it \u001b[38;5;241m=\u001b[39m []\n",
      "\u001b[1;31mModuleNotFoundError\u001b[0m: No module named 'ToImport'"
     ]
    }
   ],
   "source": [
    "from ToImport.calories_counter_simple_data import cal_cntr\n",
    "#task 1 : Create a calorie counter function.\n",
    "# fill the test_it list by meals using their NAMES :\n",
    "# menue of meals:  Hamburger  , Cheese Burger , Veggie Burger , Vegan Burger ,\n",
    "#            Sweet Potatoes , Salad , Iced Tea, Lemonade\n",
    "\n",
    "test_it = []\n",
    "print(cal_cntr(test_it))"
   ]
  }
 ],
 "metadata": {
  "kernelspec": {
   "display_name": "Python 3.8.10 ('.venv': venv)",
   "language": "python",
   "name": "python3"
  },
  "language_info": {
   "codemirror_mode": {
    "name": "ipython",
    "version": 3
   },
   "file_extension": ".py",
   "mimetype": "text/x-python",
   "name": "python",
   "nbconvert_exporter": "python",
   "pygments_lexer": "ipython3",
   "version": "3.8.10"
  },
  "orig_nbformat": 4,
  "vscode": {
   "interpreter": {
    "hash": "7cb55238c90ede141d7442d682ce88528c142af9922e57b95769c4bc18468161"
   }
  }
 },
 "nbformat": 4,
 "nbformat_minor": 2
}
